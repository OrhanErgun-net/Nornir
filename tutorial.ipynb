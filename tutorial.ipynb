{
 "cells": [
  {
   "cell_type": "markdown",
   "metadata": {},
   "source": [
    "# nornir_napalm"
   ]
  },
  {
   "cell_type": "markdown",
   "metadata": {},
   "source": [
    "## napalm_get"
   ]
  },
  {
   "cell_type": "code",
   "execution_count": null,
   "metadata": {},
   "outputs": [],
   "source": [
    "from nornir import InitNornir\n",
    "from nornir_utils.plugins.functions import print_result\n",
    "from nornir_napalm.plugins.tasks import napalm_get\n",
    "\n",
    "nr = InitNornir(\n",
    "    config_file=\"config.yaml\"\n",
    ")\n",
    "\n",
    "results = nr.run(\n",
    "    task=napalm_get, getters=[\"interfaces_ip\"]\n",
    ")\n",
    "print_result(results)"
   ]
  },
  {
   "cell_type": "code",
   "execution_count": null,
   "metadata": {},
   "outputs": [],
   "source": [
    "from nornir import InitNornir\n",
    "from nornir_utils.plugins.functions import print_result\n",
    "from nornir_napalm.plugins.tasks import napalm_get\n",
    "\n",
    "nr = InitNornir(\n",
    "    config_file=\"config.yaml\"\n",
    ")\n",
    "\n",
    "results = nr.run(\n",
    "    task=napalm_get, getters=[\"facts\", \"interfaces\"]\n",
    ")\n",
    "print_result(results)"
   ]
  },
  {
   "cell_type": "markdown",
   "metadata": {},
   "source": [
    "## napalm_configure"
   ]
  },
  {
   "cell_type": "code",
   "execution_count": null,
   "metadata": {},
   "outputs": [],
   "source": [
    "from nornir import InitNornir\n",
    "from nornir_utils.plugins.functions import print_result\n",
    "from nornir_napalm.plugins.tasks import napalm_configure\n",
    "\n",
    "nr = InitNornir(\n",
    "    config_file=\"config.yaml\", dry_run=False\n",
    ")\n",
    "\n",
    "results = nr.run(\n",
    "    task=napalm_configure, configuration=\"interface loopback 0\"\n",
    ")\n",
    "\n",
    "print_result(results)"
   ]
  },
  {
   "cell_type": "code",
   "execution_count": null,
   "metadata": {},
   "outputs": [],
   "source": [
    "from nornir import InitNornir\n",
    "from nornir_utils.plugins.functions import print_result\n",
    "from nornir_napalm.plugins.tasks import napalm_configure\n",
    "\n",
    "nr = InitNornir(\n",
    "    config_file=\"config.yaml\", dry_run=False\n",
    ")\n",
    "\n",
    "results = nr.run(\n",
    "    task=napalm_configure, filename=\"config.txt\"\n",
    ")\n",
    "\n",
    "print_result(results)"
   ]
  },
  {
   "cell_type": "markdown",
   "metadata": {},
   "source": [
    "## getting backup and write_file"
   ]
  },
  {
   "cell_type": "code",
   "execution_count": null,
   "metadata": {},
   "outputs": [],
   "source": [
    "from nornir import InitNornir\n",
    "from nornir_napalm.plugins.tasks import napalm_get\n",
    "from nornir_utils.plugins.functions import print_result\n",
    "\n",
    "\n",
    "nr = InitNornir(config_file=\"config.yaml\")\n",
    "\n",
    "results = nr.run(task=napalm_get, getters=['config'])\n",
    "print_result(results)"
   ]
  },
  {
   "cell_type": "code",
   "execution_count": null,
   "metadata": {},
   "outputs": [],
   "source": [
    "from nornir import InitNornir\n",
    "from nornir_napalm.plugins.tasks import napalm_get\n",
    "from nornir_utils.plugins.functions import print_result\n",
    "from nornir_utils.plugins.tasks.files import write_file\n",
    "\n",
    "nr = InitNornir(config_file=\"config.yaml\")\n",
    "\n",
    "def backup(task):\n",
    "    get_config = task.run(task=napalm_get, getters=[\"config\"])\n",
    "    get_running = get_config.result[\"config\"][\"running\"]\n",
    "    task.run(task=write_file, content=get_running, filename='running.txt')\n",
    "\n",
    "\n",
    "results = nr.run(task=backup)"
   ]
  },
  {
   "cell_type": "code",
   "execution_count": null,
   "metadata": {},
   "outputs": [],
   "source": [
    "\n",
    "from nornir import InitNornir\n",
    "from nornir_utils.plugins.functions import print_result\n",
    "from nornir_napalm.plugins.tasks import napalm_configure\n",
    "\n",
    "nr = InitNornir(\n",
    "    config_file=\"config.yaml\", dry_run=False\n",
    ")\n",
    "results = nr.run(\n",
    "    task=napalm_configure, filename=\"running.txt\", replace=True\n",
    ")\n",
    "\n",
    "print_result(results)"
   ]
  },
  {
   "cell_type": "markdown",
   "metadata": {},
   "source": [
    "## napalm_validate"
   ]
  },
  {
   "cell_type": "code",
   "execution_count": null,
   "metadata": {},
   "outputs": [],
   "source": [
    "from nornir import InitNornir\n",
    "from nornir_napalm.plugins.tasks import napalm_validate\n",
    "from nornir_utils.plugins.functions import print_result\n",
    "\n",
    "nr = InitNornir(config_file=\"config.yaml\")\n",
    "\n",
    "def validate(task):\n",
    "    result = task.run(task=napalm_validate, src=\"validate-config.yaml\")\n",
    "    \n",
    "results = nr.run(task=validate)\n",
    "print_result(results)"
   ]
  },
  {
   "cell_type": "markdown",
   "metadata": {},
   "source": [
    "# nornir_scrapli"
   ]
  },
  {
   "cell_type": "markdown",
   "metadata": {},
   "source": [
    "## get_prompt"
   ]
  },
  {
   "cell_type": "code",
   "execution_count": null,
   "metadata": {},
   "outputs": [],
   "source": [
    "from nornir import InitNornir\n",
    "from nornir_scrapli.tasks import get_prompt\n",
    "\n",
    "nr = InitNornir(config_file=\"config.yaml\")\n",
    "\n",
    "prompt_results = nr.run(task=get_prompt)\n",
    "\n",
    "print(\"get_prompt result:\")\n",
    "print(prompt_results[\"router1\"].result)\n",
    "print(prompt_results)"
   ]
  },
  {
   "cell_type": "code",
   "execution_count": null,
   "metadata": {},
   "outputs": [],
   "source": [
    "from nornir import InitNornir\n",
    "from nornir_scrapli.tasks import get_prompt\n",
    "\n",
    "nr = InitNornir(config_file=\"config.yaml\")\n",
    "\n",
    "def fetch_prompt(task):\n",
    "    result = task.run(task=get_prompt)\n",
    "    prompt = result[0].result\n",
    "    print(f\"Prompt for {task.host}: {prompt}\")\n",
    "\n",
    "nr.run(task=fetch_prompt)"
   ]
  },
  {
   "cell_type": "code",
   "execution_count": null,
   "metadata": {},
   "outputs": [],
   "source": [
    "from nornir import InitNornir\n",
    "from nornir_scrapli.tasks import get_prompt\n",
    "\n",
    "nr = InitNornir(config_file=\"config.yaml\")\n",
    "\n",
    "valid_hostnames = ['R1', 'R2', 'R3', 'R4']\n",
    "\n",
    "def fetch_prompt(task):\n",
    "    result = task.run(task=get_prompt)\n",
    "    prompt = result[0].result\n",
    "    \n",
    "    if str(prompt)[0:2] in valid_hostnames:\n",
    "        print(prompt)\n",
    "    else:\n",
    "        print(\"Invalid hostname\")\n",
    "\n",
    "\n",
    "nr.run(task=fetch_prompt)"
   ]
  },
  {
   "cell_type": "markdown",
   "metadata": {},
   "source": [
    "## send_command, send_commands, send_commands_from_file"
   ]
  },
  {
   "cell_type": "code",
   "execution_count": null,
   "metadata": {},
   "outputs": [],
   "source": [
    "from nornir import InitNornir\n",
    "from nornir_utils.plugins.functions import print_result\n",
    "from nornir_scrapli.tasks import send_command\n",
    "\n",
    "nr = InitNornir(config_file=\"config.yaml\")\n",
    "\n",
    "def cmd_sender(task):\n",
    "    result = task.run(task=send_command, command=\"show ip route\", strip_prompt=False)\n",
    "    \n",
    "\n",
    "result = nr.run(task=cmd_sender)\n",
    "print_result(result)"
   ]
  },
  {
   "cell_type": "code",
   "execution_count": null,
   "metadata": {},
   "outputs": [],
   "source": [
    "from nornir import InitNornir\n",
    "from nornir_utils.plugins.functions import print_result\n",
    "from nornir_scrapli.tasks import send_commands\n",
    "\n",
    "nr = InitNornir(config_file=\"config.yaml\")\n",
    "\n",
    "commands = ['show ip route', 'show ip protocols']\n",
    "\n",
    "def cmd_sender(task):\n",
    "    result = task.run(task=send_commands, commands=commands)\n",
    "    \n",
    "\n",
    "result = nr.run(task=cmd_sender)\n",
    "print_result(result)"
   ]
  },
  {
   "cell_type": "code",
   "execution_count": null,
   "metadata": {},
   "outputs": [],
   "source": [
    "from nornir import InitNornir\n",
    "from nornir_utils.plugins.functions import print_result\n",
    "from nornir_scrapli.tasks import send_commands_from_file\n",
    "\n",
    "nr = InitNornir(config_file=\"config.yaml\")\n",
    "\n",
    "\n",
    "def cmd_sender(task):\n",
    "    result = task.run(task=send_commands_from_file, file='config.txt')\n",
    "    \n",
    "\n",
    "result = nr.run(task=cmd_sender)\n",
    "print_result(result)"
   ]
  },
  {
   "cell_type": "markdown",
   "metadata": {},
   "source": [
    "## send_config, send_configs, send_configs_from_file"
   ]
  },
  {
   "cell_type": "code",
   "execution_count": null,
   "metadata": {},
   "outputs": [],
   "source": [
    "from nornir import InitNornir\n",
    "from nornir_utils.plugins.functions import print_result\n",
    "from nornir_scrapli.tasks import send_config, send_config, send_configs_from_file\n",
    "\n",
    "nr = InitNornir(config_file=\"config.yaml\")\n",
    "\n",
    "def cfg_sender(task):\n",
    "    result = task.run(task=send_config, config='int lo90', dry_run=False)\n",
    "    \n",
    "\n",
    "result = nr.run(task=cfg_sender)\n",
    "print_result(result)"
   ]
  },
  {
   "cell_type": "code",
   "execution_count": null,
   "metadata": {},
   "outputs": [],
   "source": [
    "from nornir import InitNornir\n",
    "from nornir_utils.plugins.functions import print_result\n",
    "from nornir_scrapli.tasks import send_config, send_config, send_configs_from_file\n",
    "\n",
    "nr = InitNornir(config_file=\"config.yaml\")\n",
    "\n",
    "configs = ['int lo90', 'ip add 9.9.9.9 255.255.255.255']\n",
    "def cfg_sender(task):\n",
    "    result = task.run(task=send_config, configs=configs, dry_run=False)\n",
    "    \n",
    "\n",
    "result = nr.run(task=cfg_sender)\n",
    "print_result(result)"
   ]
  },
  {
   "cell_type": "code",
   "execution_count": null,
   "metadata": {},
   "outputs": [],
   "source": [
    "from nornir import InitNornir\n",
    "from nornir_utils.plugins.functions import print_result\n",
    "from nornir_scrapli.tasks import send_config, send_configs, send_configs_from_file\n",
    "\n",
    "nr = InitNornir(config_file=\"config.yaml\")\n",
    "\n",
    "\n",
    "def cfg_sender(task):\n",
    "    result = task.run(task=send_configs, file='config.txt', dry_run=False)\n",
    "\n",
    "\n",
    "result = nr.run(task=cfg_sender)\n",
    "print_result(result)"
   ]
  },
  {
   "cell_type": "markdown",
   "metadata": {},
   "source": [
    "# nornir_jinja"
   ]
  },
  {
   "cell_type": "code",
   "execution_count": null,
   "metadata": {},
   "outputs": [],
   "source": [
    "from nornir import InitNornir\n",
    "from nornir_scrapli.tasks import send_configs\n",
    "from nornir_utils.plugins.functions import print_result\n",
    "from nornir_jinja2.plugins.tasks import template_file\n",
    "\n",
    "nr = InitNornir(config_file=\"config.yaml\")\n",
    "\n",
    "def run_template(task):\n",
    "    template = task.run(\n",
    "        task=template_file, template=\"interface.j2\", path=\".\"\n",
    "    ).result\n",
    "    task.run(task=send_configs, configs=template.splitlines())\n",
    "\n",
    "results = nr.run(task=run_template)\n",
    "print_result(results)\n"
   ]
  }
 ],
 "metadata": {
  "language_info": {
   "name": "python"
  }
 },
 "nbformat": 4,
 "nbformat_minor": 2
}
